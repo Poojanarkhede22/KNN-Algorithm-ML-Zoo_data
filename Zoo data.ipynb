{
 "cells": [
  {
   "cell_type": "markdown",
   "id": "f8622dd2",
   "metadata": {},
   "source": [
    "# Implement a KNN model to classify the animals in to categorie"
   ]
  },
  {
   "cell_type": "markdown",
   "id": "9b1e76e1",
   "metadata": {},
   "source": [
    "# Import required lib"
   ]
  },
  {
   "cell_type": "code",
   "execution_count": 87,
   "id": "beb1be06",
   "metadata": {},
   "outputs": [],
   "source": [
    "import pandas as pd\n",
    "import warnings\n",
    "warnings.filterwarnings('ignore')\n",
    "import seaborn as sns\n",
    "from sklearn.model_selection import train_test_split,cross_val_score\n",
    "from sklearn.neighbors import KNeighborsClassifier\n",
    "from sklearn.metrics import accuracy_score\n",
    "import numpy as np\n",
    "import matplotlib.pyplot as plt"
   ]
  },
  {
   "cell_type": "markdown",
   "id": "8158f8a9",
   "metadata": {},
   "source": [
    "## Import dataset"
   ]
  },
  {
   "cell_type": "code",
   "execution_count": 19,
   "id": "8d6c0af1",
   "metadata": {},
   "outputs": [
    {
     "data": {
      "text/html": [
       "<div>\n",
       "<style scoped>\n",
       "    .dataframe tbody tr th:only-of-type {\n",
       "        vertical-align: middle;\n",
       "    }\n",
       "\n",
       "    .dataframe tbody tr th {\n",
       "        vertical-align: top;\n",
       "    }\n",
       "\n",
       "    .dataframe thead th {\n",
       "        text-align: right;\n",
       "    }\n",
       "</style>\n",
       "<table border=\"1\" class=\"dataframe\">\n",
       "  <thead>\n",
       "    <tr style=\"text-align: right;\">\n",
       "      <th></th>\n",
       "      <th>animal name</th>\n",
       "      <th>hair</th>\n",
       "      <th>feathers</th>\n",
       "      <th>eggs</th>\n",
       "      <th>milk</th>\n",
       "      <th>airborne</th>\n",
       "      <th>aquatic</th>\n",
       "      <th>predator</th>\n",
       "      <th>toothed</th>\n",
       "      <th>backbone</th>\n",
       "      <th>breathes</th>\n",
       "      <th>venomous</th>\n",
       "      <th>fins</th>\n",
       "      <th>legs</th>\n",
       "      <th>tail</th>\n",
       "      <th>domestic</th>\n",
       "      <th>catsize</th>\n",
       "      <th>type</th>\n",
       "    </tr>\n",
       "  </thead>\n",
       "  <tbody>\n",
       "    <tr>\n",
       "      <th>0</th>\n",
       "      <td>aardvark</td>\n",
       "      <td>1</td>\n",
       "      <td>0</td>\n",
       "      <td>0</td>\n",
       "      <td>1</td>\n",
       "      <td>0</td>\n",
       "      <td>0</td>\n",
       "      <td>1</td>\n",
       "      <td>1</td>\n",
       "      <td>1</td>\n",
       "      <td>1</td>\n",
       "      <td>0</td>\n",
       "      <td>0</td>\n",
       "      <td>4</td>\n",
       "      <td>0</td>\n",
       "      <td>0</td>\n",
       "      <td>1</td>\n",
       "      <td>1</td>\n",
       "    </tr>\n",
       "    <tr>\n",
       "      <th>1</th>\n",
       "      <td>antelope</td>\n",
       "      <td>1</td>\n",
       "      <td>0</td>\n",
       "      <td>0</td>\n",
       "      <td>1</td>\n",
       "      <td>0</td>\n",
       "      <td>0</td>\n",
       "      <td>0</td>\n",
       "      <td>1</td>\n",
       "      <td>1</td>\n",
       "      <td>1</td>\n",
       "      <td>0</td>\n",
       "      <td>0</td>\n",
       "      <td>4</td>\n",
       "      <td>1</td>\n",
       "      <td>0</td>\n",
       "      <td>1</td>\n",
       "      <td>1</td>\n",
       "    </tr>\n",
       "    <tr>\n",
       "      <th>2</th>\n",
       "      <td>bass</td>\n",
       "      <td>0</td>\n",
       "      <td>0</td>\n",
       "      <td>1</td>\n",
       "      <td>0</td>\n",
       "      <td>0</td>\n",
       "      <td>1</td>\n",
       "      <td>1</td>\n",
       "      <td>1</td>\n",
       "      <td>1</td>\n",
       "      <td>0</td>\n",
       "      <td>0</td>\n",
       "      <td>1</td>\n",
       "      <td>0</td>\n",
       "      <td>1</td>\n",
       "      <td>0</td>\n",
       "      <td>0</td>\n",
       "      <td>4</td>\n",
       "    </tr>\n",
       "    <tr>\n",
       "      <th>3</th>\n",
       "      <td>bear</td>\n",
       "      <td>1</td>\n",
       "      <td>0</td>\n",
       "      <td>0</td>\n",
       "      <td>1</td>\n",
       "      <td>0</td>\n",
       "      <td>0</td>\n",
       "      <td>1</td>\n",
       "      <td>1</td>\n",
       "      <td>1</td>\n",
       "      <td>1</td>\n",
       "      <td>0</td>\n",
       "      <td>0</td>\n",
       "      <td>4</td>\n",
       "      <td>0</td>\n",
       "      <td>0</td>\n",
       "      <td>1</td>\n",
       "      <td>1</td>\n",
       "    </tr>\n",
       "    <tr>\n",
       "      <th>4</th>\n",
       "      <td>boar</td>\n",
       "      <td>1</td>\n",
       "      <td>0</td>\n",
       "      <td>0</td>\n",
       "      <td>1</td>\n",
       "      <td>0</td>\n",
       "      <td>0</td>\n",
       "      <td>1</td>\n",
       "      <td>1</td>\n",
       "      <td>1</td>\n",
       "      <td>1</td>\n",
       "      <td>0</td>\n",
       "      <td>0</td>\n",
       "      <td>4</td>\n",
       "      <td>1</td>\n",
       "      <td>0</td>\n",
       "      <td>1</td>\n",
       "      <td>1</td>\n",
       "    </tr>\n",
       "    <tr>\n",
       "      <th>...</th>\n",
       "      <td>...</td>\n",
       "      <td>...</td>\n",
       "      <td>...</td>\n",
       "      <td>...</td>\n",
       "      <td>...</td>\n",
       "      <td>...</td>\n",
       "      <td>...</td>\n",
       "      <td>...</td>\n",
       "      <td>...</td>\n",
       "      <td>...</td>\n",
       "      <td>...</td>\n",
       "      <td>...</td>\n",
       "      <td>...</td>\n",
       "      <td>...</td>\n",
       "      <td>...</td>\n",
       "      <td>...</td>\n",
       "      <td>...</td>\n",
       "      <td>...</td>\n",
       "    </tr>\n",
       "    <tr>\n",
       "      <th>96</th>\n",
       "      <td>wallaby</td>\n",
       "      <td>1</td>\n",
       "      <td>0</td>\n",
       "      <td>0</td>\n",
       "      <td>1</td>\n",
       "      <td>0</td>\n",
       "      <td>0</td>\n",
       "      <td>0</td>\n",
       "      <td>1</td>\n",
       "      <td>1</td>\n",
       "      <td>1</td>\n",
       "      <td>0</td>\n",
       "      <td>0</td>\n",
       "      <td>2</td>\n",
       "      <td>1</td>\n",
       "      <td>0</td>\n",
       "      <td>1</td>\n",
       "      <td>1</td>\n",
       "    </tr>\n",
       "    <tr>\n",
       "      <th>97</th>\n",
       "      <td>wasp</td>\n",
       "      <td>1</td>\n",
       "      <td>0</td>\n",
       "      <td>1</td>\n",
       "      <td>0</td>\n",
       "      <td>1</td>\n",
       "      <td>0</td>\n",
       "      <td>0</td>\n",
       "      <td>0</td>\n",
       "      <td>0</td>\n",
       "      <td>1</td>\n",
       "      <td>1</td>\n",
       "      <td>0</td>\n",
       "      <td>6</td>\n",
       "      <td>0</td>\n",
       "      <td>0</td>\n",
       "      <td>0</td>\n",
       "      <td>6</td>\n",
       "    </tr>\n",
       "    <tr>\n",
       "      <th>98</th>\n",
       "      <td>wolf</td>\n",
       "      <td>1</td>\n",
       "      <td>0</td>\n",
       "      <td>0</td>\n",
       "      <td>1</td>\n",
       "      <td>0</td>\n",
       "      <td>0</td>\n",
       "      <td>1</td>\n",
       "      <td>1</td>\n",
       "      <td>1</td>\n",
       "      <td>1</td>\n",
       "      <td>0</td>\n",
       "      <td>0</td>\n",
       "      <td>4</td>\n",
       "      <td>1</td>\n",
       "      <td>0</td>\n",
       "      <td>1</td>\n",
       "      <td>1</td>\n",
       "    </tr>\n",
       "    <tr>\n",
       "      <th>99</th>\n",
       "      <td>worm</td>\n",
       "      <td>0</td>\n",
       "      <td>0</td>\n",
       "      <td>1</td>\n",
       "      <td>0</td>\n",
       "      <td>0</td>\n",
       "      <td>0</td>\n",
       "      <td>0</td>\n",
       "      <td>0</td>\n",
       "      <td>0</td>\n",
       "      <td>1</td>\n",
       "      <td>0</td>\n",
       "      <td>0</td>\n",
       "      <td>0</td>\n",
       "      <td>0</td>\n",
       "      <td>0</td>\n",
       "      <td>0</td>\n",
       "      <td>7</td>\n",
       "    </tr>\n",
       "    <tr>\n",
       "      <th>100</th>\n",
       "      <td>wren</td>\n",
       "      <td>0</td>\n",
       "      <td>1</td>\n",
       "      <td>1</td>\n",
       "      <td>0</td>\n",
       "      <td>1</td>\n",
       "      <td>0</td>\n",
       "      <td>0</td>\n",
       "      <td>0</td>\n",
       "      <td>1</td>\n",
       "      <td>1</td>\n",
       "      <td>0</td>\n",
       "      <td>0</td>\n",
       "      <td>2</td>\n",
       "      <td>1</td>\n",
       "      <td>0</td>\n",
       "      <td>0</td>\n",
       "      <td>2</td>\n",
       "    </tr>\n",
       "  </tbody>\n",
       "</table>\n",
       "<p>101 rows × 18 columns</p>\n",
       "</div>"
      ],
      "text/plain": [
       "    animal name  hair  feathers  eggs  milk  airborne  aquatic  predator  \\\n",
       "0      aardvark     1         0     0     1         0        0         1   \n",
       "1      antelope     1         0     0     1         0        0         0   \n",
       "2          bass     0         0     1     0         0        1         1   \n",
       "3          bear     1         0     0     1         0        0         1   \n",
       "4          boar     1         0     0     1         0        0         1   \n",
       "..          ...   ...       ...   ...   ...       ...      ...       ...   \n",
       "96      wallaby     1         0     0     1         0        0         0   \n",
       "97         wasp     1         0     1     0         1        0         0   \n",
       "98         wolf     1         0     0     1         0        0         1   \n",
       "99         worm     0         0     1     0         0        0         0   \n",
       "100        wren     0         1     1     0         1        0         0   \n",
       "\n",
       "     toothed  backbone  breathes  venomous  fins  legs  tail  domestic  \\\n",
       "0          1         1         1         0     0     4     0         0   \n",
       "1          1         1         1         0     0     4     1         0   \n",
       "2          1         1         0         0     1     0     1         0   \n",
       "3          1         1         1         0     0     4     0         0   \n",
       "4          1         1         1         0     0     4     1         0   \n",
       "..       ...       ...       ...       ...   ...   ...   ...       ...   \n",
       "96         1         1         1         0     0     2     1         0   \n",
       "97         0         0         1         1     0     6     0         0   \n",
       "98         1         1         1         0     0     4     1         0   \n",
       "99         0         0         1         0     0     0     0         0   \n",
       "100        0         1         1         0     0     2     1         0   \n",
       "\n",
       "     catsize  type  \n",
       "0          1     1  \n",
       "1          1     1  \n",
       "2          0     4  \n",
       "3          1     1  \n",
       "4          1     1  \n",
       "..       ...   ...  \n",
       "96         1     1  \n",
       "97         0     6  \n",
       "98         1     1  \n",
       "99         0     7  \n",
       "100        0     2  \n",
       "\n",
       "[101 rows x 18 columns]"
      ]
     },
     "execution_count": 19,
     "metadata": {},
     "output_type": "execute_result"
    }
   ],
   "source": [
    "zoo_data = pd.read_csv('Zoo.csv')\n",
    "zoo_data"
   ]
  },
  {
   "cell_type": "markdown",
   "id": "e77c510e",
   "metadata": {},
   "source": [
    "### Initial Analysis"
   ]
  },
  {
   "cell_type": "code",
   "execution_count": 20,
   "id": "30ffa333",
   "metadata": {},
   "outputs": [
    {
     "data": {
      "text/plain": [
       "(101, 18)"
      ]
     },
     "execution_count": 20,
     "metadata": {},
     "output_type": "execute_result"
    }
   ],
   "source": [
    "zoo_data.shape"
   ]
  },
  {
   "cell_type": "code",
   "execution_count": 21,
   "id": "9444ef1a",
   "metadata": {},
   "outputs": [
    {
     "data": {
      "text/plain": [
       "animal name    object\n",
       "hair            int64\n",
       "feathers        int64\n",
       "eggs            int64\n",
       "milk            int64\n",
       "airborne        int64\n",
       "aquatic         int64\n",
       "predator        int64\n",
       "toothed         int64\n",
       "backbone        int64\n",
       "breathes        int64\n",
       "venomous        int64\n",
       "fins            int64\n",
       "legs            int64\n",
       "tail            int64\n",
       "domestic        int64\n",
       "catsize         int64\n",
       "type            int64\n",
       "dtype: object"
      ]
     },
     "execution_count": 21,
     "metadata": {},
     "output_type": "execute_result"
    }
   ],
   "source": [
    "zoo_data.dtypes"
   ]
  },
  {
   "cell_type": "code",
   "execution_count": 22,
   "id": "7c3e6e72",
   "metadata": {},
   "outputs": [
    {
     "data": {
      "text/plain": [
       "animal name    0\n",
       "hair           0\n",
       "feathers       0\n",
       "eggs           0\n",
       "milk           0\n",
       "airborne       0\n",
       "aquatic        0\n",
       "predator       0\n",
       "toothed        0\n",
       "backbone       0\n",
       "breathes       0\n",
       "venomous       0\n",
       "fins           0\n",
       "legs           0\n",
       "tail           0\n",
       "domestic       0\n",
       "catsize        0\n",
       "type           0\n",
       "dtype: int64"
      ]
     },
     "execution_count": 22,
     "metadata": {},
     "output_type": "execute_result"
    }
   ],
   "source": [
    "zoo_data.isna().sum()"
   ]
  },
  {
   "cell_type": "code",
   "execution_count": 23,
   "id": "971e90e3",
   "metadata": {},
   "outputs": [
    {
     "data": {
      "text/html": [
       "<div>\n",
       "<style scoped>\n",
       "    .dataframe tbody tr th:only-of-type {\n",
       "        vertical-align: middle;\n",
       "    }\n",
       "\n",
       "    .dataframe tbody tr th {\n",
       "        vertical-align: top;\n",
       "    }\n",
       "\n",
       "    .dataframe thead th {\n",
       "        text-align: right;\n",
       "    }\n",
       "</style>\n",
       "<table border=\"1\" class=\"dataframe\">\n",
       "  <thead>\n",
       "    <tr style=\"text-align: right;\">\n",
       "      <th></th>\n",
       "      <th>animal name</th>\n",
       "      <th>hair</th>\n",
       "      <th>feathers</th>\n",
       "      <th>eggs</th>\n",
       "      <th>milk</th>\n",
       "      <th>airborne</th>\n",
       "      <th>aquatic</th>\n",
       "      <th>predator</th>\n",
       "      <th>toothed</th>\n",
       "      <th>backbone</th>\n",
       "      <th>breathes</th>\n",
       "      <th>venomous</th>\n",
       "      <th>fins</th>\n",
       "      <th>legs</th>\n",
       "      <th>tail</th>\n",
       "      <th>domestic</th>\n",
       "      <th>catsize</th>\n",
       "      <th>type</th>\n",
       "    </tr>\n",
       "  </thead>\n",
       "  <tbody>\n",
       "  </tbody>\n",
       "</table>\n",
       "</div>"
      ],
      "text/plain": [
       "Empty DataFrame\n",
       "Columns: [animal name, hair, feathers, eggs, milk, airborne, aquatic, predator, toothed, backbone, breathes, venomous, fins, legs, tail, domestic, catsize, type]\n",
       "Index: []"
      ]
     },
     "execution_count": 23,
     "metadata": {},
     "output_type": "execute_result"
    }
   ],
   "source": [
    "zoo_data[zoo_data.duplicated()]"
   ]
  },
  {
   "cell_type": "code",
   "execution_count": 24,
   "id": "f2483219",
   "metadata": {},
   "outputs": [
    {
     "data": {
      "text/plain": [
       "100"
      ]
     },
     "execution_count": 24,
     "metadata": {},
     "output_type": "execute_result"
    }
   ],
   "source": [
    "zoo_data['animal name'].nunique()"
   ]
  },
  {
   "cell_type": "code",
   "execution_count": 25,
   "id": "dd4587e9",
   "metadata": {},
   "outputs": [
    {
     "data": {
      "text/html": [
       "<div>\n",
       "<style scoped>\n",
       "    .dataframe tbody tr th:only-of-type {\n",
       "        vertical-align: middle;\n",
       "    }\n",
       "\n",
       "    .dataframe tbody tr th {\n",
       "        vertical-align: top;\n",
       "    }\n",
       "\n",
       "    .dataframe thead th {\n",
       "        text-align: right;\n",
       "    }\n",
       "</style>\n",
       "<table border=\"1\" class=\"dataframe\">\n",
       "  <thead>\n",
       "    <tr style=\"text-align: right;\">\n",
       "      <th></th>\n",
       "      <th>animal_name</th>\n",
       "      <th>hair</th>\n",
       "      <th>feathers</th>\n",
       "      <th>eggs</th>\n",
       "      <th>milk</th>\n",
       "      <th>airborne</th>\n",
       "      <th>aquatic</th>\n",
       "      <th>predator</th>\n",
       "      <th>toothed</th>\n",
       "      <th>backbone</th>\n",
       "      <th>breathes</th>\n",
       "      <th>venomous</th>\n",
       "      <th>fins</th>\n",
       "      <th>legs</th>\n",
       "      <th>tail</th>\n",
       "      <th>domestic</th>\n",
       "      <th>catsize</th>\n",
       "      <th>type</th>\n",
       "    </tr>\n",
       "  </thead>\n",
       "  <tbody>\n",
       "    <tr>\n",
       "      <th>0</th>\n",
       "      <td>aardvark</td>\n",
       "      <td>1</td>\n",
       "      <td>0</td>\n",
       "      <td>0</td>\n",
       "      <td>1</td>\n",
       "      <td>0</td>\n",
       "      <td>0</td>\n",
       "      <td>1</td>\n",
       "      <td>1</td>\n",
       "      <td>1</td>\n",
       "      <td>1</td>\n",
       "      <td>0</td>\n",
       "      <td>0</td>\n",
       "      <td>4</td>\n",
       "      <td>0</td>\n",
       "      <td>0</td>\n",
       "      <td>1</td>\n",
       "      <td>1</td>\n",
       "    </tr>\n",
       "    <tr>\n",
       "      <th>1</th>\n",
       "      <td>antelope</td>\n",
       "      <td>1</td>\n",
       "      <td>0</td>\n",
       "      <td>0</td>\n",
       "      <td>1</td>\n",
       "      <td>0</td>\n",
       "      <td>0</td>\n",
       "      <td>0</td>\n",
       "      <td>1</td>\n",
       "      <td>1</td>\n",
       "      <td>1</td>\n",
       "      <td>0</td>\n",
       "      <td>0</td>\n",
       "      <td>4</td>\n",
       "      <td>1</td>\n",
       "      <td>0</td>\n",
       "      <td>1</td>\n",
       "      <td>1</td>\n",
       "    </tr>\n",
       "    <tr>\n",
       "      <th>2</th>\n",
       "      <td>bass</td>\n",
       "      <td>0</td>\n",
       "      <td>0</td>\n",
       "      <td>1</td>\n",
       "      <td>0</td>\n",
       "      <td>0</td>\n",
       "      <td>1</td>\n",
       "      <td>1</td>\n",
       "      <td>1</td>\n",
       "      <td>1</td>\n",
       "      <td>0</td>\n",
       "      <td>0</td>\n",
       "      <td>1</td>\n",
       "      <td>0</td>\n",
       "      <td>1</td>\n",
       "      <td>0</td>\n",
       "      <td>0</td>\n",
       "      <td>4</td>\n",
       "    </tr>\n",
       "    <tr>\n",
       "      <th>3</th>\n",
       "      <td>bear</td>\n",
       "      <td>1</td>\n",
       "      <td>0</td>\n",
       "      <td>0</td>\n",
       "      <td>1</td>\n",
       "      <td>0</td>\n",
       "      <td>0</td>\n",
       "      <td>1</td>\n",
       "      <td>1</td>\n",
       "      <td>1</td>\n",
       "      <td>1</td>\n",
       "      <td>0</td>\n",
       "      <td>0</td>\n",
       "      <td>4</td>\n",
       "      <td>0</td>\n",
       "      <td>0</td>\n",
       "      <td>1</td>\n",
       "      <td>1</td>\n",
       "    </tr>\n",
       "    <tr>\n",
       "      <th>4</th>\n",
       "      <td>boar</td>\n",
       "      <td>1</td>\n",
       "      <td>0</td>\n",
       "      <td>0</td>\n",
       "      <td>1</td>\n",
       "      <td>0</td>\n",
       "      <td>0</td>\n",
       "      <td>1</td>\n",
       "      <td>1</td>\n",
       "      <td>1</td>\n",
       "      <td>1</td>\n",
       "      <td>0</td>\n",
       "      <td>0</td>\n",
       "      <td>4</td>\n",
       "      <td>1</td>\n",
       "      <td>0</td>\n",
       "      <td>1</td>\n",
       "      <td>1</td>\n",
       "    </tr>\n",
       "  </tbody>\n",
       "</table>\n",
       "</div>"
      ],
      "text/plain": [
       "  animal_name  hair  feathers  eggs  milk  airborne  aquatic  predator  \\\n",
       "0    aardvark     1         0     0     1         0        0         1   \n",
       "1    antelope     1         0     0     1         0        0         0   \n",
       "2        bass     0         0     1     0         0        1         1   \n",
       "3        bear     1         0     0     1         0        0         1   \n",
       "4        boar     1         0     0     1         0        0         1   \n",
       "\n",
       "   toothed  backbone  breathes  venomous  fins  legs  tail  domestic  catsize  \\\n",
       "0        1         1         1         0     0     4     0         0        1   \n",
       "1        1         1         1         0     0     4     1         0        1   \n",
       "2        1         1         0         0     1     0     1         0        0   \n",
       "3        1         1         1         0     0     4     0         0        1   \n",
       "4        1         1         1         0     0     4     1         0        1   \n",
       "\n",
       "   type  \n",
       "0     1  \n",
       "1     1  \n",
       "2     4  \n",
       "3     1  \n",
       "4     1  "
      ]
     },
     "execution_count": 25,
     "metadata": {},
     "output_type": "execute_result"
    }
   ],
   "source": [
    "zoo_data1 = zoo_data.rename(columns = {'animal name':'animal_name'})\n",
    "zoo_data1.head()"
   ]
  },
  {
   "cell_type": "code",
   "execution_count": 28,
   "id": "58fae5a3",
   "metadata": {},
   "outputs": [
    {
     "data": {
      "text/plain": [
       "frog    2\n",
       "Name: animal_name, dtype: int64"
      ]
     },
     "execution_count": 28,
     "metadata": {},
     "output_type": "execute_result"
    }
   ],
   "source": [
    "duplicate = zoo_data1.animal_name.value_counts()\n",
    "duplicate[duplicate>1]"
   ]
  },
  {
   "cell_type": "code",
   "execution_count": 30,
   "id": "e85f5778",
   "metadata": {},
   "outputs": [
    {
     "data": {
      "text/html": [
       "<div>\n",
       "<style scoped>\n",
       "    .dataframe tbody tr th:only-of-type {\n",
       "        vertical-align: middle;\n",
       "    }\n",
       "\n",
       "    .dataframe tbody tr th {\n",
       "        vertical-align: top;\n",
       "    }\n",
       "\n",
       "    .dataframe thead th {\n",
       "        text-align: right;\n",
       "    }\n",
       "</style>\n",
       "<table border=\"1\" class=\"dataframe\">\n",
       "  <thead>\n",
       "    <tr style=\"text-align: right;\">\n",
       "      <th></th>\n",
       "      <th>animal_name</th>\n",
       "      <th>hair</th>\n",
       "      <th>feathers</th>\n",
       "      <th>eggs</th>\n",
       "      <th>milk</th>\n",
       "      <th>airborne</th>\n",
       "      <th>aquatic</th>\n",
       "      <th>predator</th>\n",
       "      <th>toothed</th>\n",
       "      <th>backbone</th>\n",
       "      <th>breathes</th>\n",
       "      <th>venomous</th>\n",
       "      <th>fins</th>\n",
       "      <th>legs</th>\n",
       "      <th>tail</th>\n",
       "      <th>domestic</th>\n",
       "      <th>catsize</th>\n",
       "      <th>type</th>\n",
       "    </tr>\n",
       "  </thead>\n",
       "  <tbody>\n",
       "    <tr>\n",
       "      <th>25</th>\n",
       "      <td>frog</td>\n",
       "      <td>0</td>\n",
       "      <td>0</td>\n",
       "      <td>1</td>\n",
       "      <td>0</td>\n",
       "      <td>0</td>\n",
       "      <td>1</td>\n",
       "      <td>1</td>\n",
       "      <td>1</td>\n",
       "      <td>1</td>\n",
       "      <td>1</td>\n",
       "      <td>0</td>\n",
       "      <td>0</td>\n",
       "      <td>4</td>\n",
       "      <td>0</td>\n",
       "      <td>0</td>\n",
       "      <td>0</td>\n",
       "      <td>5</td>\n",
       "    </tr>\n",
       "    <tr>\n",
       "      <th>26</th>\n",
       "      <td>frog</td>\n",
       "      <td>0</td>\n",
       "      <td>0</td>\n",
       "      <td>1</td>\n",
       "      <td>0</td>\n",
       "      <td>0</td>\n",
       "      <td>1</td>\n",
       "      <td>1</td>\n",
       "      <td>1</td>\n",
       "      <td>1</td>\n",
       "      <td>1</td>\n",
       "      <td>1</td>\n",
       "      <td>0</td>\n",
       "      <td>4</td>\n",
       "      <td>0</td>\n",
       "      <td>0</td>\n",
       "      <td>0</td>\n",
       "      <td>5</td>\n",
       "    </tr>\n",
       "  </tbody>\n",
       "</table>\n",
       "</div>"
      ],
      "text/plain": [
       "   animal_name  hair  feathers  eggs  milk  airborne  aquatic  predator  \\\n",
       "25        frog     0         0     1     0         0        1         1   \n",
       "26        frog     0         0     1     0         0        1         1   \n",
       "\n",
       "    toothed  backbone  breathes  venomous  fins  legs  tail  domestic  \\\n",
       "25        1         1         1         0     0     4     0         0   \n",
       "26        1         1         1         1     0     4     0         0   \n",
       "\n",
       "    catsize  type  \n",
       "25        0     5  \n",
       "26        0     5  "
      ]
     },
     "execution_count": 30,
     "metadata": {},
     "output_type": "execute_result"
    }
   ],
   "source": [
    "data = zoo_data1.loc[zoo_data1['animal_name']=='frog']\n",
    "data"
   ]
  },
  {
   "cell_type": "code",
   "execution_count": 43,
   "id": "8ca40fb3",
   "metadata": {},
   "outputs": [],
   "source": [
    "zoo_data1['animal_name'][(zoo_data1.venomous==1)&(zoo_data1.animal_name =='frog')] ='frog2'"
   ]
  },
  {
   "cell_type": "code",
   "execution_count": 45,
   "id": "ca174da0",
   "metadata": {},
   "outputs": [
    {
     "data": {
      "text/plain": [
       "array([1, 4, 2, 7, 6, 5, 3], dtype=int64)"
      ]
     },
     "execution_count": 45,
     "metadata": {},
     "output_type": "execute_result"
    }
   ],
   "source": [
    "zoo_data1['type'].unique()"
   ]
  },
  {
   "cell_type": "code",
   "execution_count": 47,
   "id": "ccb87ab0",
   "metadata": {},
   "outputs": [],
   "source": [
    "zoo_new = zoo_data1.drop(labels = 'animal_name',axis = 1)"
   ]
  },
  {
   "cell_type": "code",
   "execution_count": 48,
   "id": "04b6818e",
   "metadata": {},
   "outputs": [
    {
     "data": {
      "text/html": [
       "<div>\n",
       "<style scoped>\n",
       "    .dataframe tbody tr th:only-of-type {\n",
       "        vertical-align: middle;\n",
       "    }\n",
       "\n",
       "    .dataframe tbody tr th {\n",
       "        vertical-align: top;\n",
       "    }\n",
       "\n",
       "    .dataframe thead th {\n",
       "        text-align: right;\n",
       "    }\n",
       "</style>\n",
       "<table border=\"1\" class=\"dataframe\">\n",
       "  <thead>\n",
       "    <tr style=\"text-align: right;\">\n",
       "      <th></th>\n",
       "      <th>hair</th>\n",
       "      <th>feathers</th>\n",
       "      <th>eggs</th>\n",
       "      <th>milk</th>\n",
       "      <th>airborne</th>\n",
       "      <th>aquatic</th>\n",
       "      <th>predator</th>\n",
       "      <th>toothed</th>\n",
       "      <th>backbone</th>\n",
       "      <th>breathes</th>\n",
       "      <th>venomous</th>\n",
       "      <th>fins</th>\n",
       "      <th>legs</th>\n",
       "      <th>tail</th>\n",
       "      <th>domestic</th>\n",
       "      <th>catsize</th>\n",
       "      <th>type</th>\n",
       "    </tr>\n",
       "  </thead>\n",
       "  <tbody>\n",
       "    <tr>\n",
       "      <th>0</th>\n",
       "      <td>1</td>\n",
       "      <td>0</td>\n",
       "      <td>0</td>\n",
       "      <td>1</td>\n",
       "      <td>0</td>\n",
       "      <td>0</td>\n",
       "      <td>1</td>\n",
       "      <td>1</td>\n",
       "      <td>1</td>\n",
       "      <td>1</td>\n",
       "      <td>0</td>\n",
       "      <td>0</td>\n",
       "      <td>4</td>\n",
       "      <td>0</td>\n",
       "      <td>0</td>\n",
       "      <td>1</td>\n",
       "      <td>1</td>\n",
       "    </tr>\n",
       "    <tr>\n",
       "      <th>1</th>\n",
       "      <td>1</td>\n",
       "      <td>0</td>\n",
       "      <td>0</td>\n",
       "      <td>1</td>\n",
       "      <td>0</td>\n",
       "      <td>0</td>\n",
       "      <td>0</td>\n",
       "      <td>1</td>\n",
       "      <td>1</td>\n",
       "      <td>1</td>\n",
       "      <td>0</td>\n",
       "      <td>0</td>\n",
       "      <td>4</td>\n",
       "      <td>1</td>\n",
       "      <td>0</td>\n",
       "      <td>1</td>\n",
       "      <td>1</td>\n",
       "    </tr>\n",
       "    <tr>\n",
       "      <th>2</th>\n",
       "      <td>0</td>\n",
       "      <td>0</td>\n",
       "      <td>1</td>\n",
       "      <td>0</td>\n",
       "      <td>0</td>\n",
       "      <td>1</td>\n",
       "      <td>1</td>\n",
       "      <td>1</td>\n",
       "      <td>1</td>\n",
       "      <td>0</td>\n",
       "      <td>0</td>\n",
       "      <td>1</td>\n",
       "      <td>0</td>\n",
       "      <td>1</td>\n",
       "      <td>0</td>\n",
       "      <td>0</td>\n",
       "      <td>4</td>\n",
       "    </tr>\n",
       "    <tr>\n",
       "      <th>3</th>\n",
       "      <td>1</td>\n",
       "      <td>0</td>\n",
       "      <td>0</td>\n",
       "      <td>1</td>\n",
       "      <td>0</td>\n",
       "      <td>0</td>\n",
       "      <td>1</td>\n",
       "      <td>1</td>\n",
       "      <td>1</td>\n",
       "      <td>1</td>\n",
       "      <td>0</td>\n",
       "      <td>0</td>\n",
       "      <td>4</td>\n",
       "      <td>0</td>\n",
       "      <td>0</td>\n",
       "      <td>1</td>\n",
       "      <td>1</td>\n",
       "    </tr>\n",
       "    <tr>\n",
       "      <th>4</th>\n",
       "      <td>1</td>\n",
       "      <td>0</td>\n",
       "      <td>0</td>\n",
       "      <td>1</td>\n",
       "      <td>0</td>\n",
       "      <td>0</td>\n",
       "      <td>1</td>\n",
       "      <td>1</td>\n",
       "      <td>1</td>\n",
       "      <td>1</td>\n",
       "      <td>0</td>\n",
       "      <td>0</td>\n",
       "      <td>4</td>\n",
       "      <td>1</td>\n",
       "      <td>0</td>\n",
       "      <td>1</td>\n",
       "      <td>1</td>\n",
       "    </tr>\n",
       "  </tbody>\n",
       "</table>\n",
       "</div>"
      ],
      "text/plain": [
       "   hair  feathers  eggs  milk  airborne  aquatic  predator  toothed  backbone  \\\n",
       "0     1         0     0     1         0        0         1        1         1   \n",
       "1     1         0     0     1         0        0         0        1         1   \n",
       "2     0         0     1     0         0        1         1        1         1   \n",
       "3     1         0     0     1         0        0         1        1         1   \n",
       "4     1         0     0     1         0        0         1        1         1   \n",
       "\n",
       "   breathes  venomous  fins  legs  tail  domestic  catsize  type  \n",
       "0         1         0     0     4     0         0        1     1  \n",
       "1         1         0     0     4     1         0        1     1  \n",
       "2         0         0     1     0     1         0        0     4  \n",
       "3         1         0     0     4     0         0        1     1  \n",
       "4         1         0     0     4     1         0        1     1  "
      ]
     },
     "execution_count": 48,
     "metadata": {},
     "output_type": "execute_result"
    }
   ],
   "source": [
    "zoo_new.head()"
   ]
  },
  {
   "cell_type": "code",
   "execution_count": 50,
   "id": "41b442c9",
   "metadata": {},
   "outputs": [
    {
     "data": {
      "text/plain": [
       "hair        int64\n",
       "feathers    int64\n",
       "eggs        int64\n",
       "milk        int64\n",
       "airborne    int64\n",
       "aquatic     int64\n",
       "predator    int64\n",
       "toothed     int64\n",
       "backbone    int64\n",
       "breathes    int64\n",
       "venomous    int64\n",
       "fins        int64\n",
       "legs        int64\n",
       "tail        int64\n",
       "domestic    int64\n",
       "catsize     int64\n",
       "type        int64\n",
       "dtype: object"
      ]
     },
     "execution_count": 50,
     "metadata": {},
     "output_type": "execute_result"
    }
   ],
   "source": [
    "zoo_new.dtypes"
   ]
  },
  {
   "cell_type": "markdown",
   "id": "40cd676f",
   "metadata": {},
   "source": [
    "## visualization plot"
   ]
  },
  {
   "cell_type": "code",
   "execution_count": 101,
   "id": "333b5251",
   "metadata": {},
   "outputs": [
    {
     "data": {
      "text/html": [
       "<div>\n",
       "<style scoped>\n",
       "    .dataframe tbody tr th:only-of-type {\n",
       "        vertical-align: middle;\n",
       "    }\n",
       "\n",
       "    .dataframe tbody tr th {\n",
       "        vertical-align: top;\n",
       "    }\n",
       "\n",
       "    .dataframe thead th {\n",
       "        text-align: right;\n",
       "    }\n",
       "</style>\n",
       "<table border=\"1\" class=\"dataframe\">\n",
       "  <thead>\n",
       "    <tr style=\"text-align: right;\">\n",
       "      <th></th>\n",
       "      <th>hair</th>\n",
       "      <th>feathers</th>\n",
       "      <th>eggs</th>\n",
       "      <th>milk</th>\n",
       "      <th>airborne</th>\n",
       "      <th>aquatic</th>\n",
       "      <th>predator</th>\n",
       "      <th>toothed</th>\n",
       "      <th>backbone</th>\n",
       "      <th>breathes</th>\n",
       "      <th>venomous</th>\n",
       "      <th>fins</th>\n",
       "      <th>legs</th>\n",
       "      <th>tail</th>\n",
       "      <th>domestic</th>\n",
       "      <th>catsize</th>\n",
       "      <th>type</th>\n",
       "    </tr>\n",
       "  </thead>\n",
       "  <tbody>\n",
       "    <tr>\n",
       "      <th>hair</th>\n",
       "      <td>1.000000</td>\n",
       "      <td>-0.427851</td>\n",
       "      <td>-0.817382</td>\n",
       "      <td>0.878503</td>\n",
       "      <td>-0.198431</td>\n",
       "      <td>-0.473554</td>\n",
       "      <td>-0.154769</td>\n",
       "      <td>0.492531</td>\n",
       "      <td>0.191681</td>\n",
       "      <td>0.441149</td>\n",
       "      <td>-0.104245</td>\n",
       "      <td>-0.280313</td>\n",
       "      <td>0.394009</td>\n",
       "      <td>0.048973</td>\n",
       "      <td>0.207208</td>\n",
       "      <td>0.455020</td>\n",
       "      <td>-0.562384</td>\n",
       "    </tr>\n",
       "    <tr>\n",
       "      <th>feathers</th>\n",
       "      <td>-0.427851</td>\n",
       "      <td>1.000000</td>\n",
       "      <td>0.419248</td>\n",
       "      <td>-0.410761</td>\n",
       "      <td>0.656553</td>\n",
       "      <td>-0.058552</td>\n",
       "      <td>-0.104430</td>\n",
       "      <td>-0.613631</td>\n",
       "      <td>0.231403</td>\n",
       "      <td>0.254588</td>\n",
       "      <td>-0.145739</td>\n",
       "      <td>-0.223541</td>\n",
       "      <td>-0.206686</td>\n",
       "      <td>0.292569</td>\n",
       "      <td>0.031586</td>\n",
       "      <td>-0.135934</td>\n",
       "      <td>-0.197520</td>\n",
       "    </tr>\n",
       "    <tr>\n",
       "      <th>eggs</th>\n",
       "      <td>-0.817382</td>\n",
       "      <td>0.419248</td>\n",
       "      <td>1.000000</td>\n",
       "      <td>-0.938848</td>\n",
       "      <td>0.376646</td>\n",
       "      <td>0.376244</td>\n",
       "      <td>0.011605</td>\n",
       "      <td>-0.642150</td>\n",
       "      <td>-0.340420</td>\n",
       "      <td>-0.382777</td>\n",
       "      <td>0.098689</td>\n",
       "      <td>0.164796</td>\n",
       "      <td>-0.224918</td>\n",
       "      <td>-0.221090</td>\n",
       "      <td>-0.155610</td>\n",
       "      <td>-0.514650</td>\n",
       "      <td>0.661825</td>\n",
       "    </tr>\n",
       "    <tr>\n",
       "      <th>milk</th>\n",
       "      <td>0.878503</td>\n",
       "      <td>-0.410761</td>\n",
       "      <td>-0.938848</td>\n",
       "      <td>1.000000</td>\n",
       "      <td>-0.366765</td>\n",
       "      <td>-0.362613</td>\n",
       "      <td>-0.029721</td>\n",
       "      <td>0.628168</td>\n",
       "      <td>0.384958</td>\n",
       "      <td>0.423527</td>\n",
       "      <td>-0.242449</td>\n",
       "      <td>-0.156328</td>\n",
       "      <td>0.214196</td>\n",
       "      <td>0.210026</td>\n",
       "      <td>0.163928</td>\n",
       "      <td>0.574906</td>\n",
       "      <td>-0.723683</td>\n",
       "    </tr>\n",
       "    <tr>\n",
       "      <th>airborne</th>\n",
       "      <td>-0.198431</td>\n",
       "      <td>0.656553</td>\n",
       "      <td>0.376646</td>\n",
       "      <td>-0.366765</td>\n",
       "      <td>1.000000</td>\n",
       "      <td>-0.172638</td>\n",
       "      <td>-0.295181</td>\n",
       "      <td>-0.594311</td>\n",
       "      <td>-0.104718</td>\n",
       "      <td>0.286039</td>\n",
       "      <td>0.008528</td>\n",
       "      <td>-0.251157</td>\n",
       "      <td>0.043712</td>\n",
       "      <td>0.009482</td>\n",
       "      <td>0.063274</td>\n",
       "      <td>-0.349768</td>\n",
       "      <td>0.022677</td>\n",
       "    </tr>\n",
       "    <tr>\n",
       "      <th>aquatic</th>\n",
       "      <td>-0.473554</td>\n",
       "      <td>-0.058552</td>\n",
       "      <td>0.376244</td>\n",
       "      <td>-0.362613</td>\n",
       "      <td>-0.172638</td>\n",
       "      <td>1.000000</td>\n",
       "      <td>0.375978</td>\n",
       "      <td>0.053150</td>\n",
       "      <td>0.022463</td>\n",
       "      <td>-0.637506</td>\n",
       "      <td>0.087915</td>\n",
       "      <td>0.604492</td>\n",
       "      <td>-0.360638</td>\n",
       "      <td>-0.034642</td>\n",
       "      <td>-0.224308</td>\n",
       "      <td>-0.111866</td>\n",
       "      <td>0.326639</td>\n",
       "    </tr>\n",
       "    <tr>\n",
       "      <th>predator</th>\n",
       "      <td>-0.154769</td>\n",
       "      <td>-0.104430</td>\n",
       "      <td>0.011605</td>\n",
       "      <td>-0.029721</td>\n",
       "      <td>-0.295181</td>\n",
       "      <td>0.375978</td>\n",
       "      <td>1.000000</td>\n",
       "      <td>0.129452</td>\n",
       "      <td>0.051022</td>\n",
       "      <td>-0.262931</td>\n",
       "      <td>0.115391</td>\n",
       "      <td>0.190302</td>\n",
       "      <td>-0.099723</td>\n",
       "      <td>0.018947</td>\n",
       "      <td>-0.309794</td>\n",
       "      <td>0.144790</td>\n",
       "      <td>0.061179</td>\n",
       "    </tr>\n",
       "    <tr>\n",
       "      <th>toothed</th>\n",
       "      <td>0.492531</td>\n",
       "      <td>-0.613631</td>\n",
       "      <td>-0.642150</td>\n",
       "      <td>0.628168</td>\n",
       "      <td>-0.594311</td>\n",
       "      <td>0.053150</td>\n",
       "      <td>0.129452</td>\n",
       "      <td>1.000000</td>\n",
       "      <td>0.575085</td>\n",
       "      <td>-0.065690</td>\n",
       "      <td>-0.062344</td>\n",
       "      <td>0.364292</td>\n",
       "      <td>-0.193476</td>\n",
       "      <td>0.310368</td>\n",
       "      <td>0.069430</td>\n",
       "      <td>0.344010</td>\n",
       "      <td>-0.471527</td>\n",
       "    </tr>\n",
       "    <tr>\n",
       "      <th>backbone</th>\n",
       "      <td>0.191681</td>\n",
       "      <td>0.231403</td>\n",
       "      <td>-0.340420</td>\n",
       "      <td>0.384958</td>\n",
       "      <td>-0.104718</td>\n",
       "      <td>0.022463</td>\n",
       "      <td>0.051022</td>\n",
       "      <td>0.575085</td>\n",
       "      <td>1.000000</td>\n",
       "      <td>0.207666</td>\n",
       "      <td>-0.246611</td>\n",
       "      <td>0.209499</td>\n",
       "      <td>-0.432856</td>\n",
       "      <td>0.731762</td>\n",
       "      <td>0.101733</td>\n",
       "      <td>0.356976</td>\n",
       "      <td>-0.828845</td>\n",
       "    </tr>\n",
       "    <tr>\n",
       "      <th>breathes</th>\n",
       "      <td>0.441149</td>\n",
       "      <td>0.254588</td>\n",
       "      <td>-0.382777</td>\n",
       "      <td>0.423527</td>\n",
       "      <td>0.286039</td>\n",
       "      <td>-0.637506</td>\n",
       "      <td>-0.262931</td>\n",
       "      <td>-0.065690</td>\n",
       "      <td>0.207666</td>\n",
       "      <td>1.000000</td>\n",
       "      <td>-0.120752</td>\n",
       "      <td>-0.617219</td>\n",
       "      <td>0.369868</td>\n",
       "      <td>0.088952</td>\n",
       "      <td>0.124068</td>\n",
       "      <td>0.204125</td>\n",
       "      <td>-0.519308</td>\n",
       "    </tr>\n",
       "    <tr>\n",
       "      <th>venomous</th>\n",
       "      <td>-0.104245</td>\n",
       "      <td>-0.145739</td>\n",
       "      <td>0.098689</td>\n",
       "      <td>-0.242449</td>\n",
       "      <td>0.008528</td>\n",
       "      <td>0.087915</td>\n",
       "      <td>0.115391</td>\n",
       "      <td>-0.062344</td>\n",
       "      <td>-0.246611</td>\n",
       "      <td>-0.120752</td>\n",
       "      <td>1.000000</td>\n",
       "      <td>-0.033956</td>\n",
       "      <td>0.022964</td>\n",
       "      <td>-0.162724</td>\n",
       "      <td>-0.003252</td>\n",
       "      <td>-0.183748</td>\n",
       "      <td>0.321476</td>\n",
       "    </tr>\n",
       "    <tr>\n",
       "      <th>fins</th>\n",
       "      <td>-0.280313</td>\n",
       "      <td>-0.223541</td>\n",
       "      <td>0.164796</td>\n",
       "      <td>-0.156328</td>\n",
       "      <td>-0.251157</td>\n",
       "      <td>0.604492</td>\n",
       "      <td>0.190302</td>\n",
       "      <td>0.364292</td>\n",
       "      <td>0.209499</td>\n",
       "      <td>-0.617219</td>\n",
       "      <td>-0.033956</td>\n",
       "      <td>1.000000</td>\n",
       "      <td>-0.605652</td>\n",
       "      <td>0.204349</td>\n",
       "      <td>-0.093887</td>\n",
       "      <td>0.031705</td>\n",
       "      <td>0.099430</td>\n",
       "    </tr>\n",
       "    <tr>\n",
       "      <th>legs</th>\n",
       "      <td>0.394009</td>\n",
       "      <td>-0.206686</td>\n",
       "      <td>-0.224918</td>\n",
       "      <td>0.214196</td>\n",
       "      <td>0.043712</td>\n",
       "      <td>-0.360638</td>\n",
       "      <td>-0.099723</td>\n",
       "      <td>-0.193476</td>\n",
       "      <td>-0.432856</td>\n",
       "      <td>0.369868</td>\n",
       "      <td>0.022964</td>\n",
       "      <td>-0.605652</td>\n",
       "      <td>1.000000</td>\n",
       "      <td>-0.348295</td>\n",
       "      <td>0.073931</td>\n",
       "      <td>0.068791</td>\n",
       "      <td>0.131693</td>\n",
       "    </tr>\n",
       "    <tr>\n",
       "      <th>tail</th>\n",
       "      <td>0.048973</td>\n",
       "      <td>0.292569</td>\n",
       "      <td>-0.221090</td>\n",
       "      <td>0.210026</td>\n",
       "      <td>0.009482</td>\n",
       "      <td>-0.034642</td>\n",
       "      <td>0.018947</td>\n",
       "      <td>0.310368</td>\n",
       "      <td>0.731762</td>\n",
       "      <td>0.088952</td>\n",
       "      <td>-0.162724</td>\n",
       "      <td>0.204349</td>\n",
       "      <td>-0.348295</td>\n",
       "      <td>1.000000</td>\n",
       "      <td>0.023434</td>\n",
       "      <td>0.243277</td>\n",
       "      <td>-0.631830</td>\n",
       "    </tr>\n",
       "    <tr>\n",
       "      <th>domestic</th>\n",
       "      <td>0.207208</td>\n",
       "      <td>0.031586</td>\n",
       "      <td>-0.155610</td>\n",
       "      <td>0.163928</td>\n",
       "      <td>0.063274</td>\n",
       "      <td>-0.224308</td>\n",
       "      <td>-0.309794</td>\n",
       "      <td>0.069430</td>\n",
       "      <td>0.101733</td>\n",
       "      <td>0.124068</td>\n",
       "      <td>-0.003252</td>\n",
       "      <td>-0.093887</td>\n",
       "      <td>0.073931</td>\n",
       "      <td>0.023434</td>\n",
       "      <td>1.000000</td>\n",
       "      <td>0.020073</td>\n",
       "      <td>-0.181043</td>\n",
       "    </tr>\n",
       "    <tr>\n",
       "      <th>catsize</th>\n",
       "      <td>0.455020</td>\n",
       "      <td>-0.135934</td>\n",
       "      <td>-0.514650</td>\n",
       "      <td>0.574906</td>\n",
       "      <td>-0.349768</td>\n",
       "      <td>-0.111866</td>\n",
       "      <td>0.144790</td>\n",
       "      <td>0.344010</td>\n",
       "      <td>0.356976</td>\n",
       "      <td>0.204125</td>\n",
       "      <td>-0.183748</td>\n",
       "      <td>0.031705</td>\n",
       "      <td>0.068791</td>\n",
       "      <td>0.243277</td>\n",
       "      <td>0.020073</td>\n",
       "      <td>1.000000</td>\n",
       "      <td>-0.521030</td>\n",
       "    </tr>\n",
       "    <tr>\n",
       "      <th>type</th>\n",
       "      <td>-0.562384</td>\n",
       "      <td>-0.197520</td>\n",
       "      <td>0.661825</td>\n",
       "      <td>-0.723683</td>\n",
       "      <td>0.022677</td>\n",
       "      <td>0.326639</td>\n",
       "      <td>0.061179</td>\n",
       "      <td>-0.471527</td>\n",
       "      <td>-0.828845</td>\n",
       "      <td>-0.519308</td>\n",
       "      <td>0.321476</td>\n",
       "      <td>0.099430</td>\n",
       "      <td>0.131693</td>\n",
       "      <td>-0.631830</td>\n",
       "      <td>-0.181043</td>\n",
       "      <td>-0.521030</td>\n",
       "      <td>1.000000</td>\n",
       "    </tr>\n",
       "  </tbody>\n",
       "</table>\n",
       "</div>"
      ],
      "text/plain": [
       "              hair  feathers      eggs      milk  airborne   aquatic  \\\n",
       "hair      1.000000 -0.427851 -0.817382  0.878503 -0.198431 -0.473554   \n",
       "feathers -0.427851  1.000000  0.419248 -0.410761  0.656553 -0.058552   \n",
       "eggs     -0.817382  0.419248  1.000000 -0.938848  0.376646  0.376244   \n",
       "milk      0.878503 -0.410761 -0.938848  1.000000 -0.366765 -0.362613   \n",
       "airborne -0.198431  0.656553  0.376646 -0.366765  1.000000 -0.172638   \n",
       "aquatic  -0.473554 -0.058552  0.376244 -0.362613 -0.172638  1.000000   \n",
       "predator -0.154769 -0.104430  0.011605 -0.029721 -0.295181  0.375978   \n",
       "toothed   0.492531 -0.613631 -0.642150  0.628168 -0.594311  0.053150   \n",
       "backbone  0.191681  0.231403 -0.340420  0.384958 -0.104718  0.022463   \n",
       "breathes  0.441149  0.254588 -0.382777  0.423527  0.286039 -0.637506   \n",
       "venomous -0.104245 -0.145739  0.098689 -0.242449  0.008528  0.087915   \n",
       "fins     -0.280313 -0.223541  0.164796 -0.156328 -0.251157  0.604492   \n",
       "legs      0.394009 -0.206686 -0.224918  0.214196  0.043712 -0.360638   \n",
       "tail      0.048973  0.292569 -0.221090  0.210026  0.009482 -0.034642   \n",
       "domestic  0.207208  0.031586 -0.155610  0.163928  0.063274 -0.224308   \n",
       "catsize   0.455020 -0.135934 -0.514650  0.574906 -0.349768 -0.111866   \n",
       "type     -0.562384 -0.197520  0.661825 -0.723683  0.022677  0.326639   \n",
       "\n",
       "          predator   toothed  backbone  breathes  venomous      fins  \\\n",
       "hair     -0.154769  0.492531  0.191681  0.441149 -0.104245 -0.280313   \n",
       "feathers -0.104430 -0.613631  0.231403  0.254588 -0.145739 -0.223541   \n",
       "eggs      0.011605 -0.642150 -0.340420 -0.382777  0.098689  0.164796   \n",
       "milk     -0.029721  0.628168  0.384958  0.423527 -0.242449 -0.156328   \n",
       "airborne -0.295181 -0.594311 -0.104718  0.286039  0.008528 -0.251157   \n",
       "aquatic   0.375978  0.053150  0.022463 -0.637506  0.087915  0.604492   \n",
       "predator  1.000000  0.129452  0.051022 -0.262931  0.115391  0.190302   \n",
       "toothed   0.129452  1.000000  0.575085 -0.065690 -0.062344  0.364292   \n",
       "backbone  0.051022  0.575085  1.000000  0.207666 -0.246611  0.209499   \n",
       "breathes -0.262931 -0.065690  0.207666  1.000000 -0.120752 -0.617219   \n",
       "venomous  0.115391 -0.062344 -0.246611 -0.120752  1.000000 -0.033956   \n",
       "fins      0.190302  0.364292  0.209499 -0.617219 -0.033956  1.000000   \n",
       "legs     -0.099723 -0.193476 -0.432856  0.369868  0.022964 -0.605652   \n",
       "tail      0.018947  0.310368  0.731762  0.088952 -0.162724  0.204349   \n",
       "domestic -0.309794  0.069430  0.101733  0.124068 -0.003252 -0.093887   \n",
       "catsize   0.144790  0.344010  0.356976  0.204125 -0.183748  0.031705   \n",
       "type      0.061179 -0.471527 -0.828845 -0.519308  0.321476  0.099430   \n",
       "\n",
       "              legs      tail  domestic   catsize      type  \n",
       "hair      0.394009  0.048973  0.207208  0.455020 -0.562384  \n",
       "feathers -0.206686  0.292569  0.031586 -0.135934 -0.197520  \n",
       "eggs     -0.224918 -0.221090 -0.155610 -0.514650  0.661825  \n",
       "milk      0.214196  0.210026  0.163928  0.574906 -0.723683  \n",
       "airborne  0.043712  0.009482  0.063274 -0.349768  0.022677  \n",
       "aquatic  -0.360638 -0.034642 -0.224308 -0.111866  0.326639  \n",
       "predator -0.099723  0.018947 -0.309794  0.144790  0.061179  \n",
       "toothed  -0.193476  0.310368  0.069430  0.344010 -0.471527  \n",
       "backbone -0.432856  0.731762  0.101733  0.356976 -0.828845  \n",
       "breathes  0.369868  0.088952  0.124068  0.204125 -0.519308  \n",
       "venomous  0.022964 -0.162724 -0.003252 -0.183748  0.321476  \n",
       "fins     -0.605652  0.204349 -0.093887  0.031705  0.099430  \n",
       "legs      1.000000 -0.348295  0.073931  0.068791  0.131693  \n",
       "tail     -0.348295  1.000000  0.023434  0.243277 -0.631830  \n",
       "domestic  0.073931  0.023434  1.000000  0.020073 -0.181043  \n",
       "catsize   0.068791  0.243277  0.020073  1.000000 -0.521030  \n",
       "type      0.131693 -0.631830 -0.181043 -0.521030  1.000000  "
      ]
     },
     "execution_count": 101,
     "metadata": {},
     "output_type": "execute_result"
    }
   ],
   "source": [
    "cor = zoo_data.corr()\n",
    "cor"
   ]
  },
  {
   "cell_type": "code",
   "execution_count": 103,
   "id": "8c8a8207",
   "metadata": {},
   "outputs": [
    {
     "data": {
      "text/plain": [
       "<AxesSubplot:>"
      ]
     },
     "execution_count": 103,
     "metadata": {},
     "output_type": "execute_result"
    },
    {
     "data": {
      "image/png": "[encoded data removed]",
      "text/plain": [
       "<Figure size 1080x576 with 2 Axes>"
      ]
     },
     "metadata": {
      "needs_background": "light"
     },
     "output_type": "display_data"
    }
   ],
   "source": [
    "plt.figure(figsize=(15,8))\n",
    "sns.heatmap(cor,annot = True)"
   ]
  },
  {
   "cell_type": "code",
   "execution_count": 54,
   "id": "6ccff508",
   "metadata": {},
   "outputs": [
    {
     "data": {
      "text/plain": [
       "<seaborn.axisgrid.FacetGrid at 0x186ed64ddc0>"
      ]
     },
     "execution_count": 54,
     "metadata": {},
     "output_type": "execute_result"
    },
    {
     "data": {
      "image/png": "[encoded data removed]",
      "text/plain": [
       "<Figure size 720x360 with 1 Axes>"
      ]
     },
     "metadata": {
      "needs_background": "light"
     },
     "output_type": "display_data"
    }
   ],
   "source": [
    "sns.factorplot('type',data = zoo_data,kind=\"count\",size = 5,aspect = 2)"
   ]
  },
  {
   "cell_type": "markdown",
   "id": "7214b324",
   "metadata": {},
   "source": [
    "## model building"
   ]
  },
  {
   "cell_type": "code",
   "execution_count": 55,
   "id": "1dd1de01",
   "metadata": {},
   "outputs": [],
   "source": [
    "x = zoo_new.drop(labels = 'type',axis = 1)\n",
    "y = zoo_new[['type']]"
   ]
  },
  {
   "cell_type": "code",
   "execution_count": 58,
   "id": "2404ca12",
   "metadata": {},
   "outputs": [],
   "source": [
    "x_train,x_test,y_train,y_test = train_test_split(x,y,test_size=0.20,random_state=1, stratify=y)"
   ]
  },
  {
   "cell_type": "code",
   "execution_count": 59,
   "id": "4d373686",
   "metadata": {},
   "outputs": [
    {
     "data": {
      "text/plain": [
       "((80, 16), (80, 1))"
      ]
     },
     "execution_count": 59,
     "metadata": {},
     "output_type": "execute_result"
    }
   ],
   "source": [
    "x_train.shape,y_train.shape"
   ]
  },
  {
   "cell_type": "code",
   "execution_count": 60,
   "id": "c08da129",
   "metadata": {},
   "outputs": [
    {
     "data": {
      "text/plain": [
       "((21, 16), (21, 1))"
      ]
     },
     "execution_count": 60,
     "metadata": {},
     "output_type": "execute_result"
    }
   ],
   "source": [
    "x_test.shape,y_test.shape"
   ]
  },
  {
   "cell_type": "markdown",
   "id": "978f9d67",
   "metadata": {},
   "source": [
    "## model training"
   ]
  },
  {
   "cell_type": "code",
   "execution_count": 62,
   "id": "74dcf61e",
   "metadata": {},
   "outputs": [
    {
     "data": {
      "text/plain": [
       "KNeighborsClassifier()"
      ]
     },
     "execution_count": 62,
     "metadata": {},
     "output_type": "execute_result"
    }
   ],
   "source": [
    "# k = 5\n",
    "knn_model = KNeighborsClassifier(n_neighbors=5)\n",
    "knn_model.fit(x_train,y_train)"
   ]
  },
  {
   "cell_type": "code",
   "execution_count": 63,
   "id": "0348013f",
   "metadata": {},
   "outputs": [],
   "source": [
    "# training data\n",
    "y_train_pred = knn_model.predict(x_train)"
   ]
  },
  {
   "cell_type": "code",
   "execution_count": 65,
   "id": "ba8cfb72",
   "metadata": {},
   "outputs": [
    {
     "data": {
      "text/plain": [
       "0.925"
      ]
     },
     "execution_count": 65,
     "metadata": {},
     "output_type": "execute_result"
    }
   ],
   "source": [
    "accuracy_score(y_train,y_train_pred)"
   ]
  },
  {
   "cell_type": "code",
   "execution_count": 66,
   "id": "5bae8a80",
   "metadata": {},
   "outputs": [],
   "source": [
    "# testing data\n",
    "y_test_pred = knn_model.predict(x_test)"
   ]
  },
  {
   "cell_type": "code",
   "execution_count": 67,
   "id": "96089403",
   "metadata": {},
   "outputs": [
    {
     "data": {
      "text/plain": [
       "0.8571428571428571"
      ]
     },
     "execution_count": 67,
     "metadata": {},
     "output_type": "execute_result"
    }
   ],
   "source": [
    "accuracy_score(y_test,y_test_pred)"
   ]
  },
  {
   "cell_type": "markdown",
   "id": "4ff1f066",
   "metadata": {},
   "source": [
    "## find out the optimum number for k"
   ]
  },
  {
   "cell_type": "code",
   "execution_count": 76,
   "id": "51ee671a",
   "metadata": {},
   "outputs": [
    {
     "name": "stdout",
     "output_type": "stream",
     "text": [
      "neighbors  1 0.97\n",
      "neighbors  3 0.93\n",
      "neighbors  5 0.851\n",
      "neighbors  7 0.8414\n",
      "neighbors  9 0.7919\n",
      "neighbors  11 0.7819\n",
      "neighbors  13 0.7819\n",
      "neighbors  15 0.7819\n",
      "neighbors  17 0.7819\n",
      "neighbors  19 0.7819\n",
      "neighbors  21 0.7419\n",
      "neighbors  23 0.7129\n"
     ]
    }
   ],
   "source": [
    "cv_scores=[]\n",
    "for i in range(1,25,2):\n",
    "    knn = KNeighborsClassifier(n_neighbors=i)\n",
    "    cv_score = cross_val_score(estimator=knn,X= x,y = y,cv=5)\n",
    "    cv_scores.append(cv_score.mean())\n",
    "    print('neighbors ',i,round(cv_score.mean(),4))"
   ]
  },
  {
   "cell_type": "code",
   "execution_count": 77,
   "id": "db54dbb7",
   "metadata": {},
   "outputs": [
    {
     "data": {
      "text/plain": [
       "KNeighborsClassifier(n_neighbors=3)"
      ]
     },
     "execution_count": 77,
     "metadata": {},
     "output_type": "execute_result"
    }
   ],
   "source": [
    "# second model\n",
    "# k = 5\n",
    "knn_model = KNeighborsClassifier(n_neighbors=3)\n",
    "knn_model.fit(x_train,y_train)"
   ]
  },
  {
   "cell_type": "code",
   "execution_count": 79,
   "id": "29893675",
   "metadata": {},
   "outputs": [],
   "source": [
    "y_train_pred1 = knn_model.predict(x_train)"
   ]
  },
  {
   "cell_type": "code",
   "execution_count": 80,
   "id": "e9ffabdd",
   "metadata": {},
   "outputs": [
    {
     "data": {
      "text/plain": [
       "0.9625"
      ]
     },
     "execution_count": 80,
     "metadata": {},
     "output_type": "execute_result"
    }
   ],
   "source": [
    "# training data\n",
    "accuracy_score(y_train,y_train_pred1)"
   ]
  },
  {
   "cell_type": "code",
   "execution_count": 82,
   "id": "f97a6113",
   "metadata": {},
   "outputs": [],
   "source": [
    "y_test_pred1= knn_model.predict(x_test)"
   ]
  },
  {
   "cell_type": "code",
   "execution_count": 83,
   "id": "cd945306",
   "metadata": {},
   "outputs": [
    {
     "data": {
      "text/plain": [
       "1.0"
      ]
     },
     "execution_count": 83,
     "metadata": {},
     "output_type": "execute_result"
    }
   ],
   "source": [
    "accuracy_score(y_test,y_test_pred1)"
   ]
  },
  {
   "cell_type": "code",
   "execution_count": 92,
   "id": "1f639d6e",
   "metadata": {},
   "outputs": [
    {
     "data": {
      "text/plain": [
       "Text(0, 0.5, 'Accuracy')"
      ]
     },
     "execution_count": 92,
     "metadata": {},
     "output_type": "execute_result"
    },
    {
     "data": {
      "image/png": "[encoded data removed]",
      "text/plain": [
       "<Figure size 936x576 with 1 Axes>"
      ]
     },
     "metadata": {
      "needs_background": "light"
     },
     "output_type": "display_data"
    }
   ],
   "source": [
    "training_accu = []\n",
    "testing_accu = []\n",
    "for i in range(1,20):\n",
    "    knn = KNeighborsClassifier(n_neighbors=i)\n",
    "    knn.fit(x_train,y_train)\n",
    "    training_accu.append(knn.score(x_train,y_train))\n",
    "    testing_accu.append(knn.score(x_test,y_test))\n",
    "\n",
    "plt.figure(figsize=(13,8))\n",
    "plt.plot(range(1,20),training_accu, label = 'training accu')\n",
    "plt.plot(range(1,20),testing_accu, label = 'testing_accu' )\n",
    "plt.legend()\n",
    "plt.xlabel('Number of Neighbors')\n",
    "plt.ylabel('Accuracy')"
   ]
  },
  {
   "cell_type": "code",
   "execution_count": 93,
   "id": "9c578169",
   "metadata": {},
   "outputs": [
    {
     "data": {
      "text/plain": [
       "1.0"
      ]
     },
     "execution_count": 93,
     "metadata": {},
     "output_type": "execute_result"
    }
   ],
   "source": [
    "np.max(training_accu)"
   ]
  },
  {
   "cell_type": "code",
   "execution_count": 94,
   "id": "7f1beff9",
   "metadata": {},
   "outputs": [
    {
     "data": {
      "text/plain": [
       "1.0"
      ]
     },
     "execution_count": 94,
     "metadata": {},
     "output_type": "execute_result"
    }
   ],
   "source": [
    "np.max(testing_accu)"
   ]
  },
  {
   "cell_type": "code",
   "execution_count": 96,
   "id": "d5acf2ff",
   "metadata": {},
   "outputs": [
    {
     "data": {
      "text/plain": [
       "1"
      ]
     },
     "execution_count": 96,
     "metadata": {},
     "output_type": "execute_result"
    }
   ],
   "source": [
    "1 + training_accu.index(np.max(training_accu))"
   ]
  },
  {
   "cell_type": "code",
   "execution_count": 97,
   "id": "43af5e39",
   "metadata": {},
   "outputs": [
    {
     "data": {
      "text/plain": [
       "1"
      ]
     },
     "execution_count": 97,
     "metadata": {},
     "output_type": "execute_result"
    }
   ],
   "source": [
    "1+testing_accu.index(np.max(testing_accu))"
   ]
  },
  {
   "cell_type": "code",
   "execution_count": null,
   "id": "f05679ed",
   "metadata": {},
   "outputs": [],
   "source": []
  }
 ],
 "metadata": {
  "kernelspec": {
   "display_name": "Python 3",
   "language": "python",
   "name": "python3"
  },
  "language_info": {
   "codemirror_mode": {
    "name": "ipython",
    "version": 3
   },
   "file_extension": ".py",
   "mimetype": "text/x-python",
   "name": "python",
   "nbconvert_exporter": "python",
   "pygments_lexer": "ipython3",
   "version": "3.8.8"
  },
  "toc": {
   "base_numbering": 1,
   "nav_menu": {},
   "number_sections": true,
   "sideBar": true,
   "skip_h1_title": false,
   "title_cell": "Table of Contents",
   "title_sidebar": "Contents",
   "toc_cell": false,
   "toc_position": {},
   "toc_section_display": true,
   "toc_window_display": false
  }
 },
 "nbformat": 4,
 "nbformat_minor": 5
}
